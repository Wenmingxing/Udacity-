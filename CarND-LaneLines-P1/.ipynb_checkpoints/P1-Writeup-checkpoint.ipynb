{
 "cells": [
  {
   "cell_type": "markdown",
   "metadata": {},
   "source": [
    "# Writeup for Project One: Lane Line Detection\n",
    "\n",
    "In this project I've applied several computer vision methods to process the image, including color space change (RGB and HSV), color and region selection, gaussian smooth, canny edge detection, Hough transform lines detection. \n",
    "\n",
    "Actually, I've done this project in three phases.\n",
    "\n",
    "Phase 1. Complete the project with all the available helper functions provided.\n",
    "\n",
    "Phase 2. Modify the draw_lines function to make the output more comfortable, by saying that I mean express the left, right lines with just one single line seperately like what the exmaple video \"P1_example.mp4\" shows.\n",
    "\n",
    "Phase 3. Use the different color space, more specifically the HSV color space for better color selection as the lane lines, which will conquer the low-brightness problem in the images or the video.\n",
    "\n",
    "Please note that, in order to make sure my ROI area are always reasonable, here I plot the ROI in all the images and videos as blue lines, you can delete it from the image by commenting out the code cv2.polylines(output_image,[vertices],True,[0,0,255]) in respectively position."
   ]
  },
  {
   "cell_type": "markdown",
   "metadata": {},
   "source": [
    "## 1 Pipeline Design Description"
   ]
  },
  {
   "cell_type": "markdown",
   "metadata": {},
   "source": [
    "### Phase one \n",
    "\n",
    "#### The steps used in phase one\n",
    "\n",
    "There are totally five steps for this phase.\n",
    "step 1: Change the RGB color image into the grayscale for the canny function usage.\n",
    "\n",
    "step 2: In order to reduce the noise, the gaussian blur is introduced.\n",
    "\n",
    "step 3. With the canny() function we can detect the edge according to the gradient threshold which we've set.\n",
    "\n",
    "step 4. Find the ROI (region of interest) in the edge image, outside which area are all black.\n",
    "\n",
    "step 5. Hough transform to find the lines and draw them on the black backgroud and then weighted this image with the original one.\n",
    "\n",
    "\n",
    "Here, I used all the helper functions provided by the example to finish the goal. After tuning the parameters for the canny() and hough_lines(). I can get the resulted image as follow. \n",
    "\n",
    "---\n",
    "<figure>\n",
    " <img src=\"output_image/simple_originl_draw_line.jpg\" width=\"380\" alt=\"Combined Image\" />\n",
    " <figcaption>\n",
    " <p></p> \n",
    " <p style=\"text-align: center;\"> Original_draw_function </p> \n",
    " </figcaption>\n",
    "</figure>\n",
    "\n",
    "From the above image, we can see that the original draw_lines() can produce a roughly line for the lane lines, but there are multiple lines representing them and also some extra lines are detected seen in the up-right. So, we need to modify the draw_lines function.\n"
   ]
  },
  {
   "cell_type": "markdown",
   "metadata": {
    "collapsed": true
   },
   "source": [
    "### Phase Two\n",
    "\n",
    "#### The steps used in phase two\n",
    "\n",
    "In phase two, the steps used to finish this object is exactly the same with phase one but the draw_lines() is modified to improve the line detection performance.\n",
    "\n",
    "In the modified draw_lines(), I classify the lines generated from hough transform into left and right group according to their slope and intersection value, then average the slope and intersection for each of them, based on that information we can calculate the coordinates for the line points.\n",
    "\n",
    "After this re-definition, the result can be shown as following.\n",
    "\n",
    "\n",
    "---\n",
    "<figure>\n",
    " <img src=\"output_image/simple_.jpg\" width=\"380\" alt=\"Combined Image\" />\n",
    " <figcaption>\n",
    " <p></p> \n",
    " <p style=\"text-align: center;\"> Modified_draw_function </p> \n",
    " </figcaption>\n",
    "</figure>\n",
    "\n",
    "We can see that there is a big improvement in the lines performance, however when it comes to the driving video especially the challege.mp4 video, there will be influence from the brightness changing. So I went through others' blog and github(referenced github:https://github.com/jeremy-shannon/CarND-LaneLines-P1), and was inspired by the idea of using the HSV color space which is robust under the different brightnesses. So, here comes the third phase and also the final version for my first project in SDCND."
   ]
  },
  {
   "cell_type": "markdown",
   "metadata": {
    "collapsed": true
   },
   "source": [
    "### Phase Three\n",
    "#### The steps used in phase three\n",
    "\n",
    "step 1. Grayscale image from RGB colored image.\n",
    "\n",
    "step 2. Hsv image from RGB colored image.\n",
    "\n",
    "step 3. Color selection function cv2.inRange() to select the white and yellow colors which are the lane lines color.\n",
    "\n",
    "step 4. Get the mask image from gray and hsv_y_w to make sure the yellow and white area are shown in the grayscale in the case of bad brightness.\n",
    "\n",
    "step 5. canny() to detect the edges and ROI() to select the area we pay attention to.\n",
    "step 6. hough_lines() to detect and draw the lines in the image.\n",
    "\n",
    "step 7. weighted_img() to add the initial image and red_lines_in_black_backgroud image.\n",
    "\n",
    "Going through this structure, we can obtain better results shown below.\n",
    "\n",
    "---\n",
    "<figure>\n",
    " <img src=\"output_image/out_solidWhiteCurve.jpg\" width=\"380\" alt=\"Combined Image\" />\n",
    " <figcaption>\n",
    " <p></p> \n",
    " <p style=\"text-align: center;\"> Final Results </p> \n",
    " </figcaption>\n",
    "</figure>\n",
    "\n",
    "<figure>\n",
    " <img src=\"output_image/out_solidYellowLeft.jpg\" width=\"380\" alt=\"Combined Image\" />\n",
    " <figcaption>\n",
    " <p></p> \n",
    " <p style=\"text-align: center;\"> Modified_draw_function </p> \n",
    " </figcaption>\n",
    "</figure>"
   ]
  },
  {
   "cell_type": "markdown",
   "metadata": {},
   "source": [
    "## 2 The Potential Shortcomings\n",
    "\n",
    "One petential shortcomng would happen when the vehicle has a sharp turn, I am afraid the current code would provide me a wrong or not that accurate lane lines mapping out.\n",
    "\n",
    "Since I use the HSV to select the yellow and white color in the image, so I am wondering whether thie program can work fine with some yellow or white cars driving ahead.\n",
    "\n",
    "One more problem I encoutered is that, in the challenge.mp4 video, there is sometimes a wrong line detection shown near the hood of the car, I guess which is caused due to the canny() that can detect the gradient change between the hood and the road. "
   ]
  },
  {
   "cell_type": "markdown",
   "metadata": {},
   "source": [
    "## 3 The Improvement \n",
    "\n",
    "In order to eliminate the problem I mentioned in the potential shortcomings part, I should try to change the canny() parameter to ignore the gradient changing between hood and road, or another way is to delete the detected lines based on their slope since the lines detected near hood is almost horizontal in that case the slope is significantly different with the referenced-lines detected for left/right lane lines.\n",
    "\n",
    "\n",
    "The detected lane lines are always straight lines which are not perfectly fitting to the real lane line especially in the turn. So, look forward to the advanced_lane_line_find project in the following project."
   ]
  }
 ],
 "metadata": {
  "kernelspec": {
   "display_name": "Python 3",
   "language": "python",
   "name": "python3"
  },
  "language_info": {
   "codemirror_mode": {
    "name": "ipython",
    "version": 3
   },
   "file_extension": ".py",
   "mimetype": "text/x-python",
   "name": "python",
   "nbconvert_exporter": "python",
   "pygments_lexer": "ipython3",
   "version": "3.5.2"
  },
  "widgets": {
   "state": {},
   "version": "1.1.2"
  }
 },
 "nbformat": 4,
 "nbformat_minor": 2
}
